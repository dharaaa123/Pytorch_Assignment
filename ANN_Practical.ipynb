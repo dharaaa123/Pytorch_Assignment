{
  "nbformat": 4,
  "nbformat_minor": 0,
  "metadata": {
    "colab": {
      "provenance": []
    },
    "kernelspec": {
      "name": "python3",
      "display_name": "Python 3"
    },
    "language_info": {
      "name": "python"
    }
  },
  "cells": [
    {
      "cell_type": "code",
      "execution_count": 1,
      "metadata": {
        "id": "s03C7MuMTJ2e"
      },
      "outputs": [],
      "source": [
        "import torch\n",
        "import torch.nn as nn\n",
        "import torch.optim as optim\n",
        "import torchvision\n",
        "import torchvision.transforms as transforms"
      ]
    },
    {
      "cell_type": "code",
      "source": [
        "batch_size = 64\n",
        "learning_rate = 0.001\n",
        "num_epochs = 10"
      ],
      "metadata": {
        "id": "2g__Pe8gTv9E"
      },
      "execution_count": 2,
      "outputs": []
    },
    {
      "cell_type": "code",
      "source": [
        "transform = transforms.Compose([transforms.ToTensor(), transforms.Normalize((0.5,), (0.5,))])\n",
        "train_dataset = torchvision.datasets.MNIST(root='./data', train=True, transform=transform, download=True)\n",
        "train_loader = torch.utils.data.DataLoader(dataset=train_dataset, batch_size=batch_size, shuffle=True)\n"
      ],
      "metadata": {
        "colab": {
          "base_uri": "https://localhost:8080/"
        },
        "id": "OlCgyz6nT9f6",
        "outputId": "4afd1929-c81c-43e2-c454-d1d5ac18f09e"
      },
      "execution_count": 3,
      "outputs": [
        {
          "output_type": "stream",
          "name": "stdout",
          "text": [
            "Downloading http://yann.lecun.com/exdb/mnist/train-images-idx3-ubyte.gz\n",
            "Downloading http://yann.lecun.com/exdb/mnist/train-images-idx3-ubyte.gz to ./data/MNIST/raw/train-images-idx3-ubyte.gz\n"
          ]
        },
        {
          "output_type": "stream",
          "name": "stderr",
          "text": [
            "100%|██████████| 9912422/9912422 [00:00<00:00, 87167581.65it/s]\n"
          ]
        },
        {
          "output_type": "stream",
          "name": "stdout",
          "text": [
            "Extracting ./data/MNIST/raw/train-images-idx3-ubyte.gz to ./data/MNIST/raw\n",
            "\n",
            "Downloading http://yann.lecun.com/exdb/mnist/train-labels-idx1-ubyte.gz\n",
            "Downloading http://yann.lecun.com/exdb/mnist/train-labels-idx1-ubyte.gz to ./data/MNIST/raw/train-labels-idx1-ubyte.gz\n"
          ]
        },
        {
          "output_type": "stream",
          "name": "stderr",
          "text": [
            "100%|██████████| 28881/28881 [00:00<00:00, 27872916.20it/s]"
          ]
        },
        {
          "output_type": "stream",
          "name": "stdout",
          "text": [
            "Extracting ./data/MNIST/raw/train-labels-idx1-ubyte.gz to ./data/MNIST/raw\n",
            "\n",
            "Downloading http://yann.lecun.com/exdb/mnist/t10k-images-idx3-ubyte.gz\n",
            "Downloading http://yann.lecun.com/exdb/mnist/t10k-images-idx3-ubyte.gz to ./data/MNIST/raw/t10k-images-idx3-ubyte.gz\n"
          ]
        },
        {
          "output_type": "stream",
          "name": "stderr",
          "text": [
            "\n",
            "100%|██████████| 1648877/1648877 [00:00<00:00, 23261080.46it/s]\n"
          ]
        },
        {
          "output_type": "stream",
          "name": "stdout",
          "text": [
            "Extracting ./data/MNIST/raw/t10k-images-idx3-ubyte.gz to ./data/MNIST/raw\n",
            "\n",
            "Downloading http://yann.lecun.com/exdb/mnist/t10k-labels-idx1-ubyte.gz\n",
            "Downloading http://yann.lecun.com/exdb/mnist/t10k-labels-idx1-ubyte.gz to ./data/MNIST/raw/t10k-labels-idx1-ubyte.gz\n"
          ]
        },
        {
          "output_type": "stream",
          "name": "stderr",
          "text": [
            "100%|██████████| 4542/4542 [00:00<00:00, 29444403.04it/s]\n"
          ]
        },
        {
          "output_type": "stream",
          "name": "stdout",
          "text": [
            "Extracting ./data/MNIST/raw/t10k-labels-idx1-ubyte.gz to ./data/MNIST/raw\n",
            "\n"
          ]
        }
      ]
    },
    {
      "cell_type": "code",
      "source": [
        "# Define the neural network\n",
        "class NeuralNetwork(nn.Module):\n",
        "    def __init__(self):\n",
        "        super(NeuralNetwork, self).__init__()\n",
        "        self.flatten = nn.Flatten()\n",
        "        self.linear_relu_stack = nn.Sequential(\n",
        "            nn.Linear(28 * 28, 512),\n",
        "            nn.ReLU(),\n",
        "            nn.Linear(512, 256),\n",
        "            nn.ReLU(),\n",
        "            nn.Linear(256, 10)\n",
        "        )\n",
        "\n",
        "    def forward(self, x):\n",
        "        x = self.flatten(x)\n",
        "        logits = self.linear_relu_stack(x)\n",
        "        return logits"
      ],
      "metadata": {
        "id": "jw-wUQ84UB_5"
      },
      "execution_count": 4,
      "outputs": []
    },
    {
      "cell_type": "code",
      "source": [
        "# Initialize the model\n",
        "model = NeuralNetwork()\n",
        "\n",
        "# Loss function and optimizer\n",
        "criterion = nn.CrossEntropyLoss()\n",
        "optimizer = optim.Adam(model.parameters(), lr=learning_rate)\n"
      ],
      "metadata": {
        "id": "PEebdAG7UIWA"
      },
      "execution_count": 5,
      "outputs": []
    },
    {
      "cell_type": "code",
      "source": [
        "for epoch in range(num_epochs):\n",
        "    for batch, (images, labels) in enumerate(train_loader):\n",
        "        # Forward pass\n",
        "        outputs = model(images)\n",
        "        loss = criterion(outputs, labels)\n",
        "\n",
        "        # Backpropagation and optimization\n",
        "        optimizer.zero_grad()\n",
        "        loss.backward()\n",
        "        optimizer.step()\n",
        "\n",
        "        if (batch+1) % 100 == 0:\n",
        "            print(f\"Epoch [{epoch+1}/{num_epochs}], Batch [{batch+1}/{len(train_loader)}], Loss: {loss.item():.4f}\")\n",
        "\n",
        "print(\"Training finished.\")"
      ],
      "metadata": {
        "colab": {
          "base_uri": "https://localhost:8080/"
        },
        "id": "7HcqvIWdVJbk",
        "outputId": "5e7624d9-f199-48c7-8122-1bf3bac048d2"
      },
      "execution_count": 6,
      "outputs": [
        {
          "output_type": "stream",
          "name": "stdout",
          "text": [
            "Epoch [1/10], Batch [100/938], Loss: 0.5503\n",
            "Epoch [1/10], Batch [200/938], Loss: 0.2979\n",
            "Epoch [1/10], Batch [300/938], Loss: 0.2868\n",
            "Epoch [1/10], Batch [400/938], Loss: 0.3355\n",
            "Epoch [1/10], Batch [500/938], Loss: 0.2250\n",
            "Epoch [1/10], Batch [600/938], Loss: 0.0641\n",
            "Epoch [1/10], Batch [700/938], Loss: 0.1089\n",
            "Epoch [1/10], Batch [800/938], Loss: 0.1875\n",
            "Epoch [1/10], Batch [900/938], Loss: 0.1105\n",
            "Epoch [2/10], Batch [100/938], Loss: 0.1354\n",
            "Epoch [2/10], Batch [200/938], Loss: 0.3621\n",
            "Epoch [2/10], Batch [300/938], Loss: 0.0559\n",
            "Epoch [2/10], Batch [400/938], Loss: 0.1307\n",
            "Epoch [2/10], Batch [500/938], Loss: 0.0580\n",
            "Epoch [2/10], Batch [600/938], Loss: 0.1832\n",
            "Epoch [2/10], Batch [700/938], Loss: 0.0681\n",
            "Epoch [2/10], Batch [800/938], Loss: 0.0435\n",
            "Epoch [2/10], Batch [900/938], Loss: 0.1522\n",
            "Epoch [3/10], Batch [100/938], Loss: 0.0988\n",
            "Epoch [3/10], Batch [200/938], Loss: 0.0743\n",
            "Epoch [3/10], Batch [300/938], Loss: 0.4943\n",
            "Epoch [3/10], Batch [400/938], Loss: 0.1152\n",
            "Epoch [3/10], Batch [500/938], Loss: 0.0291\n",
            "Epoch [3/10], Batch [600/938], Loss: 0.1536\n",
            "Epoch [3/10], Batch [700/938], Loss: 0.0534\n",
            "Epoch [3/10], Batch [800/938], Loss: 0.0790\n",
            "Epoch [3/10], Batch [900/938], Loss: 0.0346\n",
            "Epoch [4/10], Batch [100/938], Loss: 0.0777\n",
            "Epoch [4/10], Batch [200/938], Loss: 0.0383\n",
            "Epoch [4/10], Batch [300/938], Loss: 0.1228\n",
            "Epoch [4/10], Batch [400/938], Loss: 0.0138\n",
            "Epoch [4/10], Batch [500/938], Loss: 0.0509\n",
            "Epoch [4/10], Batch [600/938], Loss: 0.0185\n",
            "Epoch [4/10], Batch [700/938], Loss: 0.1763\n",
            "Epoch [4/10], Batch [800/938], Loss: 0.1416\n",
            "Epoch [4/10], Batch [900/938], Loss: 0.1037\n",
            "Epoch [5/10], Batch [100/938], Loss: 0.0430\n",
            "Epoch [5/10], Batch [200/938], Loss: 0.1239\n",
            "Epoch [5/10], Batch [300/938], Loss: 0.0221\n",
            "Epoch [5/10], Batch [400/938], Loss: 0.0327\n",
            "Epoch [5/10], Batch [500/938], Loss: 0.1489\n",
            "Epoch [5/10], Batch [600/938], Loss: 0.1179\n",
            "Epoch [5/10], Batch [700/938], Loss: 0.0662\n",
            "Epoch [5/10], Batch [800/938], Loss: 0.0541\n",
            "Epoch [5/10], Batch [900/938], Loss: 0.0663\n",
            "Epoch [6/10], Batch [100/938], Loss: 0.0759\n",
            "Epoch [6/10], Batch [200/938], Loss: 0.0740\n",
            "Epoch [6/10], Batch [300/938], Loss: 0.0441\n",
            "Epoch [6/10], Batch [400/938], Loss: 0.1055\n",
            "Epoch [6/10], Batch [500/938], Loss: 0.1362\n",
            "Epoch [6/10], Batch [600/938], Loss: 0.0238\n",
            "Epoch [6/10], Batch [700/938], Loss: 0.0848\n",
            "Epoch [6/10], Batch [800/938], Loss: 0.1228\n",
            "Epoch [6/10], Batch [900/938], Loss: 0.0780\n",
            "Epoch [7/10], Batch [100/938], Loss: 0.0113\n",
            "Epoch [7/10], Batch [200/938], Loss: 0.0711\n",
            "Epoch [7/10], Batch [300/938], Loss: 0.0324\n",
            "Epoch [7/10], Batch [400/938], Loss: 0.0378\n",
            "Epoch [7/10], Batch [500/938], Loss: 0.0914\n",
            "Epoch [7/10], Batch [600/938], Loss: 0.0801\n",
            "Epoch [7/10], Batch [700/938], Loss: 0.0747\n",
            "Epoch [7/10], Batch [800/938], Loss: 0.0669\n",
            "Epoch [7/10], Batch [900/938], Loss: 0.0529\n",
            "Epoch [8/10], Batch [100/938], Loss: 0.0280\n",
            "Epoch [8/10], Batch [200/938], Loss: 0.0396\n",
            "Epoch [8/10], Batch [300/938], Loss: 0.0462\n",
            "Epoch [8/10], Batch [400/938], Loss: 0.0977\n",
            "Epoch [8/10], Batch [500/938], Loss: 0.0248\n",
            "Epoch [8/10], Batch [600/938], Loss: 0.0841\n",
            "Epoch [8/10], Batch [700/938], Loss: 0.0170\n",
            "Epoch [8/10], Batch [800/938], Loss: 0.0248\n",
            "Epoch [8/10], Batch [900/938], Loss: 0.0431\n",
            "Epoch [9/10], Batch [100/938], Loss: 0.0031\n",
            "Epoch [9/10], Batch [200/938], Loss: 0.0361\n",
            "Epoch [9/10], Batch [300/938], Loss: 0.0691\n",
            "Epoch [9/10], Batch [400/938], Loss: 0.0070\n",
            "Epoch [9/10], Batch [500/938], Loss: 0.0382\n",
            "Epoch [9/10], Batch [600/938], Loss: 0.0810\n",
            "Epoch [9/10], Batch [700/938], Loss: 0.0645\n",
            "Epoch [9/10], Batch [800/938], Loss: 0.0423\n",
            "Epoch [9/10], Batch [900/938], Loss: 0.0378\n",
            "Epoch [10/10], Batch [100/938], Loss: 0.0033\n",
            "Epoch [10/10], Batch [200/938], Loss: 0.0246\n",
            "Epoch [10/10], Batch [300/938], Loss: 0.1288\n",
            "Epoch [10/10], Batch [400/938], Loss: 0.0136\n",
            "Epoch [10/10], Batch [500/938], Loss: 0.0696\n",
            "Epoch [10/10], Batch [600/938], Loss: 0.0143\n",
            "Epoch [10/10], Batch [700/938], Loss: 0.0379\n",
            "Epoch [10/10], Batch [800/938], Loss: 0.0034\n",
            "Epoch [10/10], Batch [900/938], Loss: 0.0316\n",
            "Training finished.\n"
          ]
        }
      ]
    }
  ]
}